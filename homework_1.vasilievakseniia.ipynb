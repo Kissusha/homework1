{
 "cells": [
  {
   "cell_type": "markdown",
   "id": "8ff9ad70",
   "metadata": {},
   "source": [
    "Задача 1"
   ]
  },
  {
   "cell_type": "code",
   "execution_count": 71,
   "id": "90c59016",
   "metadata": {},
   "outputs": [
    {
     "name": "stdout",
     "output_type": "stream",
     "text": [
      "     pcost       dcost       gap    pres   dres\n",
      " 0: -4.2903e+01 -4.3526e+01  5e+01  9e-01  3e-01\n",
      " 1: -3.2325e+01 -3.6864e+01  5e+00  3e-02  9e-03\n",
      " 2: -3.1999e+01 -3.2217e+01  2e-01  5e-04  2e-04\n",
      " 3: -3.2000e+01 -3.2003e+01  3e-03  5e-06  2e-06\n",
      " 4: -3.2000e+01 -3.2000e+01  3e-05  5e-08  2e-08\n",
      "Optimal solution found.\n",
      "[ 2.97e-08]\n",
      "[ 4.00e+00]\n",
      "\n",
      "-32.00000023722955\n"
     ]
    }
   ],
   "source": [
    "import numpy\n",
    "from cvxopt import matrix, solvers\n",
    "\n",
    "P = matrix(numpy.diag([1,4]), tc='d') #квадратичная часть\n",
    "q = matrix(numpy.array([-8,-16]), tc='d')#линейная часть\n",
    "G = matrix(numpy.array([[1,1],[1,0],[-1,0],[0,-1]]), tc='d')#ограничения\n",
    "h = matrix(numpy.array([5,0,3,0]), tc='d')# вектор правой части \n",
    "\n",
    "sol = solvers.qp(P,q,G,h)#решение\n",
    "\n",
    "print(sol['x'])\n",
    "print(sol['primal objective'])\n"
   ]
  },
  {
   "cell_type": "markdown",
   "id": "5ea86597",
   "metadata": {},
   "source": [
    "Задача 2"
   ]
  },
  {
   "cell_type": "code",
   "execution_count": 72,
   "id": "86f4edfa-85ad-4993-aeb5-212974ba80cf",
   "metadata": {},
   "outputs": [
    {
     "name": "stdout",
     "output_type": "stream",
     "text": [
      "     pcost       dcost       gap    pres   dres\n",
      " 0: -9.0449e+01  1.7839e+02  9e+02  4e+00  2e+01\n",
      " 1:  6.2210e+01 -4.8671e+01  1e+02  4e-01  3e+00\n",
      " 2:  1.2558e+01 -4.4509e+00  2e+01  5e-02  3e-01\n",
      " 3:  5.5027e+00  4.0555e-01  6e+00  1e-02  8e-02\n",
      " 4:  3.2069e+00  1.8311e+00  2e+00  2e-03  2e-02\n",
      " 5:  2.6137e+00  2.2634e+00  4e-01  2e-04  1e-03\n",
      " 6:  2.4580e+00  2.3830e+00  8e-02  2e-05  2e-04\n",
      " 7:  2.4187e+00  2.4166e+00  2e-03  2e-07  1e-06\n",
      " 8:  2.4176e+00  2.4176e+00  2e-05  2e-09  1e-08\n",
      " 9:  2.4176e+00  2.4176e+00  2e-07  2e-11  1e-10\n",
      "Optimal solution found.\n"
     ]
    },
    {
     "ename": "ValueError",
     "evalue": "shapes (100,2) and (103,1) not aligned: 2 (dim 1) != 103 (dim 0)",
     "output_type": "error",
     "traceback": [
      "\u001b[1;31m---------------------------------------------------------------------------\u001b[0m",
      "\u001b[1;31mValueError\u001b[0m                                Traceback (most recent call last)",
      "Cell \u001b[1;32mIn[72], line 79\u001b[0m\n\u001b[0;32m     77\u001b[0m \u001b[39mfor\u001b[39;00m (X, y), title \u001b[39min\u001b[39;00m datasets:\n\u001b[0;32m     78\u001b[0m     w, b \u001b[39m=\u001b[39m linear_svm_qp(X, y, C)\n\u001b[1;32m---> 79\u001b[0m     plot_svm(X, y, w, b, C, title)\n",
      "Cell \u001b[1;32mIn[72], line 58\u001b[0m, in \u001b[0;36mplot_svm\u001b[1;34m(X, y, w, b, C, title)\u001b[0m\n\u001b[0;32m     55\u001b[0m plt\u001b[39m.\u001b[39mscatter(X[y \u001b[39m==\u001b[39m \u001b[39m-\u001b[39m\u001b[39m1\u001b[39m][:, \u001b[39m0\u001b[39m], X[y \u001b[39m==\u001b[39m \u001b[39m-\u001b[39m\u001b[39m1\u001b[39m][:, \u001b[39m1\u001b[39m], color\u001b[39m=\u001b[39m\u001b[39m'\u001b[39m\u001b[39mred\u001b[39m\u001b[39m'\u001b[39m, label\u001b[39m=\u001b[39m\u001b[39m'\u001b[39m\u001b[39mClass -1\u001b[39m\u001b[39m'\u001b[39m)\n\u001b[0;32m     56\u001b[0m plt\u001b[39m.\u001b[39mscatter(X[y \u001b[39m==\u001b[39m \u001b[39m1\u001b[39m][:, \u001b[39m0\u001b[39m], X[y \u001b[39m==\u001b[39m \u001b[39m1\u001b[39m][:, \u001b[39m1\u001b[39m], color\u001b[39m=\u001b[39m\u001b[39m'\u001b[39m\u001b[39mblue\u001b[39m\u001b[39m'\u001b[39m, label\u001b[39m=\u001b[39m\u001b[39m'\u001b[39m\u001b[39mClass 1\u001b[39m\u001b[39m'\u001b[39m)\n\u001b[1;32m---> 58\u001b[0m decision_function \u001b[39m=\u001b[39m np\u001b[39m.\u001b[39;49mdot(X, w) \u001b[39m+\u001b[39m b\n\u001b[0;32m     59\u001b[0m support_vectors \u001b[39m=\u001b[39m np\u001b[39m.\u001b[39mabs(decision_function) \u001b[39m<\u001b[39m\u001b[39m=\u001b[39m \u001b[39m1\u001b[39m \u001b[39m+\u001b[39m \u001b[39m1e-10\u001b[39m\n\u001b[0;32m     60\u001b[0m plt\u001b[39m.\u001b[39mscatter(X[support_vectors, \u001b[39m0\u001b[39m], X[support_vectors, \u001b[39m1\u001b[39m], facecolors\u001b[39m=\u001b[39m\u001b[39m'\u001b[39m\u001b[39mnone\u001b[39m\u001b[39m'\u001b[39m, edgecolors\u001b[39m=\u001b[39m\u001b[39m'\u001b[39m\u001b[39mk\u001b[39m\u001b[39m'\u001b[39m, s\u001b[39m=\u001b[39m\u001b[39m100\u001b[39m, label\u001b[39m=\u001b[39m\u001b[39m'\u001b[39m\u001b[39mОпорные векторы\u001b[39m\u001b[39m'\u001b[39m)\n",
      "\u001b[1;31mValueError\u001b[0m: shapes (100,2) and (103,1) not aligned: 2 (dim 1) != 103 (dim 0)"
     ]
    },
    {
     "data": {
      "image/png": "[encoded data removed]",
      "text/plain": [
       "<Figure size 1000x800 with 1 Axes>"
      ]
     },
     "metadata": {},
     "output_type": "display_data"
    }
   ],
   "source": [
    "import numpy as np\n",
    "import pandas as pd\n",
    "import matplotlib.pyplot as plt\n",
    "from mlxtend.plotting import plot_decision_regions\n",
    "from sklearn.model_selection import train_test_split\n",
    "from sklearn.metrics import accuracy_score, r2_score\n",
    "from sklearn.utils import check_random_state, check_array\n",
    "from sklearn.svm import LinearSVR, SVR, _libsvm\n",
    "from sklearn.datasets import load_iris, load_diabetes, load_wine, load_breast_cancer\n",
    "from sklearn.datasets import make_classification, make_circles, make_moons\n",
    "\n",
    "\n",
    "def linear_svm_qp(X, y, C):\n",
    "    \n",
    "\n",
    "    N, d = X.shape\n",
    "    \n",
    "    P = matrix(np.block([[np.eye(d), np.zeros((d, N+1))], [np.zeros((N+1, d+N+1))]]))\n",
    "    q = matrix(np.hstack([np.zeros(d+1), C * np.ones(N)]))\n",
    "    G = np.hstack([-y[:, None] * X, -y[:, None], -np.eye(N)])\n",
    "    G = matrix(np.vstack([G, np.hstack([np.zeros((N, d+1)), -np.eye(N)])]))\n",
    "    h = matrix(np.hstack([-np.ones(N), np.zeros(N)]))\n",
    "    \n",
    "    # Решение задачи qp\n",
    "    solution = solvers.qp(P, q, matrix(G), h)\n",
    "\n",
    "    \n",
    "    w = np.array(solution['x'])\n",
    "    b = np.array(solution['z'])\n",
    "\n",
    "    return w, b\n",
    "\n",
    "def convert_labels(y):\n",
    "    return 2 * y - 1\n",
    "\n",
    "#  с линейно-разделимыми классами\n",
    "def lin_xy():\n",
    "    X, y = make_classification(n_samples=100, n_features=2, n_redundant=0, n_informative=2, n_clusters_per_class=1, random_state=100)\n",
    "    return X, convert_labels(y)\n",
    "\n",
    "# с хорошо разделимыми классами, но не линейно\n",
    "def nonlin_xy():\n",
    "    X, y = make_circles(n_samples=100, noise=0.2, factor=0.5, random_state=100)\n",
    "    return X, convert_labels(y)\n",
    "\n",
    "# с плохо разделимыми классами\n",
    "def bads_xy():\n",
    "    X, y = make_moons(n_samples=100, noise=0.3, random_state=100)\n",
    "    return X, convert_labels(y)\n",
    "\n",
    "\n",
    "\n",
    "def plot_svm(X, y, w, b, C, title):\n",
    "    plt.figure(figsize=(10, 8))\n",
    "    plt.scatter(X[y == -1][:, 0], X[y == -1][:, 1], color='red', label='Class -1')\n",
    "    plt.scatter(X[y == 1][:, 0], X[y == 1][:, 1], color='blue', label='Class 1')\n",
    "\n",
    "    decision_function = np.dot(X, w) + b\n",
    "    support_vectors = np.abs(decision_function) <= 1 + 1e-10\n",
    "    plt.scatter(X[support_vectors, 0], X[support_vectors, 1], facecolors='none', edgecolors='k', s=100, label='Опорные векторы')\n",
    "\n",
    "    xlim = plt.xlim()\n",
    "    ylim = plt.ylim()\n",
    "    xx, yy = np.meshgrid(np.linspace(xlim[0], xlim[1], 50), np.linspace(ylim[0], ylim[1], 50))\n",
    "    Z = np.dot(np.c_[xx.ravel(), yy.ravel()], w) + b\n",
    "    Z = Z.reshape(xx.shape)\n",
    "    \n",
    "    plt.contour(xx, yy, Z, colors='k', levels=[-1, 0, 1], alpha=0.5, linestyles=['--', '-', '--'])\n",
    "    plt.title(f'{title} (C={C})')\n",
    "    plt.xlabel()\n",
    "    plt.ylabel()\n",
    "    plt.legend()\n",
    "    plt.show()\n",
    "\n",
    "C = 1\n",
    "datasets = [(lin_xy(),'1'), (nonlin_xy(),'2'), (bads_xy(),'3')]\n",
    "for (X, y), title in datasets:\n",
    "    w, b = linear_svm_qp(X, y, C)\n",
    "    plot_svm(X, y, w, b, C, title)\n",
    "\n",
    "\n",
    "\n",
    "\n",
    "\n"
   ]
  },
  {
   "cell_type": "markdown",
   "id": "3da54127",
   "metadata": {},
   "source": [
    "Число опорных векторов зависит от параметра C следующим образом:\n",
    "\n",
    "Для линейно-разделимых классов (когда выборка линейно разделима), увеличение параметра C приведет к уменьшению числа опорных векторов, так как модель станет более строгой и будет искать разделяющую плоскость ближе к точкам данных.\n",
    "Для хорошо разделимых классов, но не линейно (когда классы разделимы нелинейно), параметр C также влияет на число опорных векторов, но в этом случае они будут варьироваться не так явно, как в случае линейной разделимости.\n",
    "Для плохо разделимых классов (когда классы сложно разделимы по имеющимся признакам), увеличение параметра C может привести к увеличению числа опорных векторов, так как модель будет пытаться настроиться на каждый шумовой данные."
   ]
  }
 ],
 "metadata": {
  "kernelspec": {
   "display_name": "Python 3 (ipykernel)",
   "language": "python",
   "name": "python3"
  },
  "language_info": {
   "codemirror_mode": {
    "name": "ipython",
    "version": 3
   },
   "file_extension": ".py",
   "mimetype": "text/x-python",
   "name": "python",
   "nbconvert_exporter": "python",
   "pygments_lexer": "ipython3",
   "version": "3.12.6"
  }
 },
 "nbformat": 4,
 "nbformat_minor": 5
}
